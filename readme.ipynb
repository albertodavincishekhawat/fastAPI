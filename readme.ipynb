{
 "cells": [
  {
   "cell_type": "markdown",
   "metadata": {},
   "source": [
    "# Contents\n",
    "1. Guidelines\n",
    "2. "
   ]
  },
  {
   "cell_type": "markdown",
   "metadata": {},
   "source": [
    "## Guidelines\n",
    "1. Open this readme parellel to the actual code.\n",
    "\n",
    "2. While WRITTING THE CODE keep adding your understanding and steps of whatever process you are doing referencing to \n",
    "    a. file names and headers\n",
    "    b. screenshots\n",
    "    c. Diagrams\n",
    "\n",
    "3. While READING THE CODE just go through the code with \"readme.ipynb\".\n"
   ]
  },
  {
   "cell_type": "markdown",
   "metadata": {},
   "source": []
  },
  {
   "cell_type": "markdown",
   "metadata": {},
   "source": []
  },
  {
   "cell_type": "markdown",
   "metadata": {},
   "source": []
  }
 ],
 "metadata": {
  "language_info": {
   "name": "python"
  }
 },
 "nbformat": 4,
 "nbformat_minor": 2
}
