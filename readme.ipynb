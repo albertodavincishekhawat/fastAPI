{
 "cells": [
  {
   "cell_type": "markdown",
   "metadata": {},
   "source": [
    "# Contents\n",
    "1. Guidelines\n",
    "2. "
   ]
  },
  {
   "cell_type": "markdown",
   "metadata": {},
   "source": [
    "## Guidelines\n",
    "1. Open this readme parellel to the actual code.\n",
    "\n",
    "2. WRITTING THE CODE : Keep adding your understanding and steps of whatever process you are doing referencing to \n",
    "    1. File names and Headers\n",
    "    2. Screenshots\n",
    "    3. Diagrams\n",
    "\n",
    "3. READING THE CODE : Just go through the code with \"readme.ipynb\".\n"
   ]
  },
  {
   "cell_type": "markdown",
   "metadata": {},
   "source": []
  },
  {
   "cell_type": "markdown",
   "metadata": {},
   "source": []
  },
  {
   "cell_type": "markdown",
   "metadata": {},
   "source": []
  }
 ],
 "metadata": {
  "language_info": {
   "name": "python"
  }
 },
 "nbformat": 4,
 "nbformat_minor": 2
}
